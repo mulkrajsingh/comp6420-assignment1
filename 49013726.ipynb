{
 "cells": [
  {
   "cell_type": "markdown",
   "id": "e0791594",
   "metadata": {},
   "source": [
    "#### Imports for Assignment"
   ]
  },
  {
   "cell_type": "code",
   "execution_count": 1,
   "id": "7bbd041c",
   "metadata": {},
   "outputs": [],
   "source": [
    "import torch, torchvision"
   ]
  },
  {
   "cell_type": "markdown",
   "id": "11da18ba",
   "metadata": {},
   "source": [
    "### Task 1 - Prepare Data Subset"
   ]
  },
  {
   "cell_type": "code",
   "execution_count": null,
   "id": "346a1c51",
   "metadata": {},
   "outputs": [],
   "source": []
  }
 ],
 "metadata": {
  "kernelspec": {
   "display_name": "comp3420",
   "language": "python",
   "name": "python3"
  },
  "language_info": {
   "codemirror_mode": {
    "name": "ipython",
    "version": 3
   },
   "file_extension": ".py",
   "mimetype": "text/x-python",
   "name": "python",
   "nbconvert_exporter": "python",
   "pygments_lexer": "ipython3",
   "version": "3.11.13"
  }
 },
 "nbformat": 4,
 "nbformat_minor": 5
}
